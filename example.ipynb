{
 "cells": [
  {
   "cell_type": "code",
   "execution_count": 1,
   "id": "f975ad66",
   "metadata": {},
   "outputs": [
    {
     "name": "stdout",
     "output_type": "stream",
     "text": [
      "Exception reporting mode: Verbose\n"
     ]
    }
   ],
   "source": [
    "%load_ext autoreload\n",
    "%autoreload 2\n",
    "%xmode verbose"
   ]
  },
  {
   "cell_type": "code",
   "execution_count": 2,
   "id": "571ad27c",
   "metadata": {},
   "outputs": [],
   "source": [
    "from papertrades import *"
   ]
  },
  {
   "cell_type": "code",
   "execution_count": 3,
   "id": "09db8ad8",
   "metadata": {},
   "outputs": [
    {
     "name": "stdout",
     "output_type": "stream",
     "text": [
      "Empty DataFrame\n",
      "Columns: [symbol, order_type, quantity, price]\n",
      "Index: []\n"
     ]
    }
   ],
   "source": [
    "p = Portfolio(10000, 'portfolio.csv')\n",
    "print(p.trades)"
   ]
  },
  {
   "cell_type": "code",
   "execution_count": 4,
   "id": "e21e760e",
   "metadata": {},
   "outputs": [
    {
     "data": {
      "text/html": [
       "<div>\n",
       "<style scoped>\n",
       "    .dataframe tbody tr th:only-of-type {\n",
       "        vertical-align: middle;\n",
       "    }\n",
       "\n",
       "    .dataframe tbody tr th {\n",
       "        vertical-align: top;\n",
       "    }\n",
       "\n",
       "    .dataframe thead th {\n",
       "        text-align: right;\n",
       "    }\n",
       "</style>\n",
       "<table border=\"1\" class=\"dataframe\">\n",
       "  <thead>\n",
       "    <tr style=\"text-align: right;\">\n",
       "      <th></th>\n",
       "      <th>symbol</th>\n",
       "      <th>order_type</th>\n",
       "      <th>quantity</th>\n",
       "      <th>price</th>\n",
       "    </tr>\n",
       "    <tr>\n",
       "      <th>order_time</th>\n",
       "      <th></th>\n",
       "      <th></th>\n",
       "      <th></th>\n",
       "      <th></th>\n",
       "    </tr>\n",
       "  </thead>\n",
       "  <tbody>\n",
       "    <tr>\n",
       "      <th>1750259182</th>\n",
       "      <td>NVDA</td>\n",
       "      <td>True</td>\n",
       "      <td>10</td>\n",
       "      <td>100</td>\n",
       "    </tr>\n",
       "  </tbody>\n",
       "</table>\n",
       "</div>"
      ],
      "text/plain": [
       "           symbol  order_type  quantity  price\n",
       "order_time                                    \n",
       "1750259182   NVDA        True        10    100"
      ]
     },
     "execution_count": 4,
     "metadata": {},
     "output_type": "execute_result"
    }
   ],
   "source": [
    "p.trade(\n",
    "    symbol = 'NVDA',\n",
    "    order_type = True,\n",
    "    quantity = 10,\n",
    "    price = 100,\n",
    "    order_time = None\n",
    ") # automatically uses rounded time\n",
    "p.trades"
   ]
  },
  {
   "cell_type": "code",
   "execution_count": 5,
   "id": "47509637",
   "metadata": {},
   "outputs": [
    {
     "data": {
      "text/html": [
       "<div>\n",
       "<style scoped>\n",
       "    .dataframe tbody tr th:only-of-type {\n",
       "        vertical-align: middle;\n",
       "    }\n",
       "\n",
       "    .dataframe tbody tr th {\n",
       "        vertical-align: top;\n",
       "    }\n",
       "\n",
       "    .dataframe thead th {\n",
       "        text-align: right;\n",
       "    }\n",
       "</style>\n",
       "<table border=\"1\" class=\"dataframe\">\n",
       "  <thead>\n",
       "    <tr style=\"text-align: right;\">\n",
       "      <th></th>\n",
       "      <th>symbol</th>\n",
       "      <th>order_type</th>\n",
       "      <th>quantity</th>\n",
       "      <th>price</th>\n",
       "    </tr>\n",
       "    <tr>\n",
       "      <th>order_time</th>\n",
       "      <th></th>\n",
       "      <th></th>\n",
       "      <th></th>\n",
       "      <th></th>\n",
       "    </tr>\n",
       "  </thead>\n",
       "  <tbody>\n",
       "    <tr>\n",
       "      <th>1750259182</th>\n",
       "      <td>NVDA</td>\n",
       "      <td>True</td>\n",
       "      <td>10</td>\n",
       "      <td>100</td>\n",
       "    </tr>\n",
       "    <tr>\n",
       "      <th>1750302382</th>\n",
       "      <td>NVDA</td>\n",
       "      <td>False</td>\n",
       "      <td>10</td>\n",
       "      <td>110</td>\n",
       "    </tr>\n",
       "  </tbody>\n",
       "</table>\n",
       "</div>"
      ],
      "text/plain": [
       "           symbol  order_type  quantity  price\n",
       "order_time                                    \n",
       "1750259182   NVDA        True        10    100\n",
       "1750302382   NVDA       False        10    110"
      ]
     },
     "execution_count": 5,
     "metadata": {},
     "output_type": "execute_result"
    }
   ],
   "source": [
    "p.trade(\n",
    "    symbol = 'NVDA',\n",
    "    order_type = False,\n",
    "    quantity = 10,\n",
    "    price = 110,\n",
    "    order_time = time.time() + 86400 / 2 # simulates half a day ahead\n",
    ")\n",
    "p.trades"
   ]
  },
  {
   "cell_type": "code",
   "execution_count": 6,
   "id": "54b47da1",
   "metadata": {},
   "outputs": [
    {
     "data": {
      "text/plain": [
       "np.int64(10100)"
      ]
     },
     "execution_count": 6,
     "metadata": {},
     "output_type": "execute_result"
    }
   ],
   "source": [
    "'''\n",
    "Started at 10000\n",
    ">>> bought 10 * 100 --> -1000\n",
    ">>> sold 10 * 110 --> +1100\n",
    "'''\n",
    "p.get_balance() # remaining cash in your account"
   ]
  },
  {
   "cell_type": "code",
   "execution_count": 7,
   "id": "f5e7dc2f",
   "metadata": {},
   "outputs": [
    {
     "data": {
      "text/plain": [
       "[10000, np.int64(9000), np.int64(10100)]"
      ]
     },
     "execution_count": 7,
     "metadata": {},
     "output_type": "execute_result"
    }
   ],
   "source": [
    "p.get_balance_over_time() # not very useful for plotting"
   ]
  },
  {
   "cell_type": "code",
   "execution_count": 8,
   "id": "8d8f0f86",
   "metadata": {},
   "outputs": [
    {
     "data": {
      "text/plain": [
       "(10100, [10000, 10000, 10100])"
      ]
     },
     "execution_count": 8,
     "metadata": {},
     "output_type": "execute_result"
    }
   ],
   "source": [
    "p.get_value(), p.get_value_over_time() # the value is the total value of all your assets based on the last trade you input"
   ]
  },
  {
   "cell_type": "code",
   "execution_count": 9,
   "id": "b85d92ba",
   "metadata": {},
   "outputs": [],
   "source": [
    "import random\n",
    "\n",
    "for i in range(3):\n",
    "    p.trade(\n",
    "        symbol = 'NVDA',\n",
    "        order_type = True,\n",
    "        quantity = 10,\n",
    "        price = 100 + random.randint(-10, 10),\n",
    "        order_time = time.time() + (2 * i + 1) * 86400\n",
    "    )\n",
    "\n",
    "    p.trade(\n",
    "        symbol = 'NVDA',\n",
    "        order_type = False,\n",
    "        quantity = 10,\n",
    "        price = 103 + random.randint(-10, 10),\n",
    "        order_time = time.time() + (2 * i + 2) * 86400\n",
    "    )"
   ]
  },
  {
   "cell_type": "code",
   "execution_count": 10,
   "id": "c5349ce3",
   "metadata": {},
   "outputs": [
    {
     "data": {
      "image/png": "[encoded data removed]",
      "text/plain": [
       "<Figure size 800x550 with 1 Axes>"
      ]
     },
     "metadata": {},
     "output_type": "display_data"
    }
   ],
   "source": [
    "p.plot_value_over_time()"
   ]
  },
  {
   "cell_type": "code",
   "execution_count": 11,
   "id": "4537f43f",
   "metadata": {},
   "outputs": [],
   "source": [
    "p.save_trades()"
   ]
  },
  {
   "cell_type": "code",
   "execution_count": 12,
   "id": "b4d34a85",
   "metadata": {},
   "outputs": [
    {
     "data": {
      "text/html": [
       "<div>\n",
       "<style scoped>\n",
       "    .dataframe tbody tr th:only-of-type {\n",
       "        vertical-align: middle;\n",
       "    }\n",
       "\n",
       "    .dataframe tbody tr th {\n",
       "        vertical-align: top;\n",
       "    }\n",
       "\n",
       "    .dataframe thead th {\n",
       "        text-align: right;\n",
       "    }\n",
       "</style>\n",
       "<table border=\"1\" class=\"dataframe\">\n",
       "  <thead>\n",
       "    <tr style=\"text-align: right;\">\n",
       "      <th></th>\n",
       "      <th>symbol</th>\n",
       "      <th>order_type</th>\n",
       "      <th>quantity</th>\n",
       "      <th>price</th>\n",
       "    </tr>\n",
       "    <tr>\n",
       "      <th>order_time</th>\n",
       "      <th></th>\n",
       "      <th></th>\n",
       "      <th></th>\n",
       "      <th></th>\n",
       "    </tr>\n",
       "  </thead>\n",
       "  <tbody>\n",
       "    <tr>\n",
       "      <th>1750259182</th>\n",
       "      <td>NVDA</td>\n",
       "      <td>True</td>\n",
       "      <td>10</td>\n",
       "      <td>100</td>\n",
       "    </tr>\n",
       "    <tr>\n",
       "      <th>1750302382</th>\n",
       "      <td>NVDA</td>\n",
       "      <td>False</td>\n",
       "      <td>10</td>\n",
       "      <td>110</td>\n",
       "    </tr>\n",
       "    <tr>\n",
       "      <th>1750345582</th>\n",
       "      <td>NVDA</td>\n",
       "      <td>True</td>\n",
       "      <td>10</td>\n",
       "      <td>97</td>\n",
       "    </tr>\n",
       "    <tr>\n",
       "      <th>1750431982</th>\n",
       "      <td>NVDA</td>\n",
       "      <td>False</td>\n",
       "      <td>10</td>\n",
       "      <td>99</td>\n",
       "    </tr>\n",
       "    <tr>\n",
       "      <th>1750518382</th>\n",
       "      <td>NVDA</td>\n",
       "      <td>True</td>\n",
       "      <td>10</td>\n",
       "      <td>91</td>\n",
       "    </tr>\n",
       "    <tr>\n",
       "      <th>1750604782</th>\n",
       "      <td>NVDA</td>\n",
       "      <td>False</td>\n",
       "      <td>10</td>\n",
       "      <td>97</td>\n",
       "    </tr>\n",
       "    <tr>\n",
       "      <th>1750691182</th>\n",
       "      <td>NVDA</td>\n",
       "      <td>True</td>\n",
       "      <td>10</td>\n",
       "      <td>100</td>\n",
       "    </tr>\n",
       "    <tr>\n",
       "      <th>1750777582</th>\n",
       "      <td>NVDA</td>\n",
       "      <td>False</td>\n",
       "      <td>10</td>\n",
       "      <td>111</td>\n",
       "    </tr>\n",
       "  </tbody>\n",
       "</table>\n",
       "</div>"
      ],
      "text/plain": [
       "           symbol  order_type  quantity  price\n",
       "order_time                                    \n",
       "1750259182   NVDA        True        10    100\n",
       "1750302382   NVDA       False        10    110\n",
       "1750345582   NVDA        True        10     97\n",
       "1750431982   NVDA       False        10     99\n",
       "1750518382   NVDA        True        10     91\n",
       "1750604782   NVDA       False        10     97\n",
       "1750691182   NVDA        True        10    100\n",
       "1750777582   NVDA       False        10    111"
      ]
     },
     "execution_count": 12,
     "metadata": {},
     "output_type": "execute_result"
    }
   ],
   "source": [
    "p2 = Portfolio(10000, 'portfolio.csv') # just make sure to use the same starting balance\n",
    "p2.load_trades()\n",
    "p2.trades"
   ]
  },
  {
   "cell_type": "code",
   "execution_count": 13,
   "id": "c99f43f2",
   "metadata": {},
   "outputs": [
    {
     "data": {
      "image/png": "[encoded data removed]",
      "text/plain": [
       "<Figure size 800x550 with 1 Axes>"
      ]
     },
     "metadata": {},
     "output_type": "display_data"
    }
   ],
   "source": [
    "p2.plot_value_over_time()\n",
    "plot.show()"
   ]
  },
  {
   "cell_type": "code",
   "execution_count": 14,
   "id": "6ef8a340",
   "metadata": {},
   "outputs": [
    {
     "data": {
      "text/plain": [
       "({'MSFT': 1, 'AAPL': 1},\n",
       " {'AAPL': 200, 'MSFT': 350},\n",
       " {'MSFT': 350, 'AAPL': 200},\n",
       " 550)"
      ]
     },
     "execution_count": 14,
     "metadata": {},
     "output_type": "execute_result"
    }
   ],
   "source": [
    "p3 = Portfolio(1000, 'portfolio3.csv')\n",
    "\n",
    "p3.trade(\n",
    "    symbol = 'MSFT',\n",
    "    order_type = True,\n",
    "    quantity = 1,\n",
    "    price = 350\n",
    ")\n",
    "p3.trade(\n",
    "    symbol = 'AAPL',\n",
    "    order_type = True,\n",
    "    quantity = 1,\n",
    "    price = 200\n",
    ")\n",
    "\n",
    "p3.get_all_assets(), p3.get_latest_asset_prices(), p3.get_asset_values(), p3.get_total_asset_values()"
   ]
  },
  {
   "cell_type": "code",
   "execution_count": 15,
   "id": "e9f19312",
   "metadata": {},
   "outputs": [
    {
     "data": {
      "text/plain": [
       "({'MSFT': 0, 'AAPL': 0}, {'AAPL': 300, 'MSFT': 400}, {}, 0, np.int64(1150))"
      ]
     },
     "execution_count": 15,
     "metadata": {},
     "output_type": "execute_result"
    }
   ],
   "source": [
    "p3.trade(\n",
    "    symbol = 'MSFT',\n",
    "    order_type = False,\n",
    "    quantity = 1,\n",
    "    price = 400,\n",
    "    order_time = time.time() + 86400 * 3\n",
    ")\n",
    "p3.trade(\n",
    "    symbol = 'AAPL',\n",
    "    order_type = False,\n",
    "    quantity = 1,\n",
    "    price = 300,\n",
    "    order_time = time.time() + 86400 * 3\n",
    ")\n",
    "\n",
    "p3.get_all_assets(), p3.get_latest_asset_prices(), p3.get_asset_values(), p3.get_total_asset_values(), p3.get_balance()"
   ]
  },
  {
   "cell_type": "code",
   "execution_count": 19,
   "id": "afe86a2e",
   "metadata": {},
   "outputs": [
    {
     "data": {
      "image/png": "[encoded data removed]",
      "text/plain": [
       "<Figure size 800x550 with 1 Axes>"
      ]
     },
     "metadata": {},
     "output_type": "display_data"
    }
   ],
   "source": [
    "p2.plot_value_over_time()\n",
    "p3.plot_value_over_time()\n",
    "plot.legend(['portfolio 2', 'portfolio 3'])\n",
    "plot.show() # comparison doesn't account for percent change"
   ]
  },
  {
   "cell_type": "code",
   "execution_count": 18,
   "id": "0e0daae8",
   "metadata": {},
   "outputs": [
    {
     "data": {
      "image/png": "[encoded data removed]",
      "text/plain": [
       "<Figure size 800x550 with 1 Axes>"
      ]
     },
     "metadata": {},
     "output_type": "display_data"
    }
   ],
   "source": [
    "p2.plot_growth_over_time()\n",
    "p3.plot_growth_over_time()\n",
    "plot.legend(['portfolio 2', 'portfolio 3'])\n",
    "plot.show() # comparison doesn't account for percent change"
   ]
  }
 ],
 "metadata": {
  "kernelspec": {
   "display_name": ".venv",
   "language": "python",
   "name": "python3"
  },
  "language_info": {
   "codemirror_mode": {
    "name": "ipython",
    "version": 3
   },
   "file_extension": ".py",
   "mimetype": "text/x-python",
   "name": "python",
   "nbconvert_exporter": "python",
   "pygments_lexer": "ipython3",
   "version": "3.13.0"
  }
 },
 "nbformat": 4,
 "nbformat_minor": 5
}

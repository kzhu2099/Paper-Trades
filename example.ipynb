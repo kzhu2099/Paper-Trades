{
 "cells": [
  {
   "cell_type": "code",
   "execution_count": null,
   "id": "f975ad66",
   "metadata": {},
   "outputs": [],
   "source": [
    "%load_ext autoreload\n",
    "%autoreload 2\n",
    "%xmode verbose"
   ]
  },
  {
   "cell_type": "code",
   "execution_count": null,
   "id": "571ad27c",
   "metadata": {},
   "outputs": [],
   "source": [
    "from papertrades import *\n",
    "import matplotlib.pyplot as plot\n",
    "plot.style.use('seaborn-v0_8')"
   ]
  },
  {
   "cell_type": "code",
   "execution_count": null,
   "id": "09db8ad8",
   "metadata": {},
   "outputs": [],
   "source": [
    "p = Portfolio(10000, 'portfolio.csv')\n",
    "print(p.trades)"
   ]
  },
  {
   "cell_type": "code",
   "execution_count": null,
   "id": "e21e760e",
   "metadata": {},
   "outputs": [],
   "source": [
    "p.trade(\n",
    "    symbol = 'NVDA',\n",
    "    order_type = True,\n",
    "    quantity = 10,\n",
    "    price = 100,\n",
    "    order_time = None\n",
    ") # automatically uses rounded time\n",
    "p.trades"
   ]
  },
  {
   "cell_type": "code",
   "execution_count": null,
   "id": "47509637",
   "metadata": {},
   "outputs": [],
   "source": [
    "p.trade(\n",
    "    symbol = 'NVDA',\n",
    "    order_type = False,\n",
    "    quantity = 10,\n",
    "    price = 110,\n",
    "    order_time = time.time() + 86400 / 2 # simulates half a day ahead\n",
    ")\n",
    "p.trades"
   ]
  },
  {
   "cell_type": "code",
   "execution_count": null,
   "id": "54b47da1",
   "metadata": {},
   "outputs": [],
   "source": [
    "'''\n",
    "Started at 10000\n",
    ">>> bought 10 * 100 --> -1000\n",
    ">>> sold 10 * 110 --> +1100\n",
    "'''\n",
    "p.get_balance() # remaining cash in your account"
   ]
  },
  {
   "cell_type": "code",
   "execution_count": null,
   "id": "f5e7dc2f",
   "metadata": {},
   "outputs": [],
   "source": [
    "p.get_balance_over_time() # not very useful for plotting"
   ]
  },
  {
   "cell_type": "code",
   "execution_count": null,
   "id": "8d8f0f86",
   "metadata": {},
   "outputs": [],
   "source": [
    "p.get_value(), p.get_value_over_time() # the value is the total value of all your assets based on the last trade you input"
   ]
  },
  {
   "cell_type": "code",
   "execution_count": null,
   "id": "b85d92ba",
   "metadata": {},
   "outputs": [],
   "source": [
    "import random\n",
    "\n",
    "for i in range(3):\n",
    "    p.trade(\n",
    "        symbol = 'NVDA',\n",
    "        order_type = True,\n",
    "        quantity = 10,\n",
    "        price = 100 + random.randint(-10, 10),\n",
    "        order_time = time.time() + (2 * i + 1) * 86400\n",
    "    )\n",
    "\n",
    "    p.trade(\n",
    "        symbol = 'NVDA',\n",
    "        order_type = False,\n",
    "        quantity = 10,\n",
    "        price = 103 + random.randint(-10, 10),\n",
    "        order_time = time.time() + (2 * i + 2) * 86400\n",
    "    )"
   ]
  },
  {
   "cell_type": "code",
   "execution_count": null,
   "id": "c5349ce3",
   "metadata": {},
   "outputs": [],
   "source": [
    "p.plot_value_over_time()"
   ]
  },
  {
   "cell_type": "code",
   "execution_count": null,
   "id": "4537f43f",
   "metadata": {},
   "outputs": [],
   "source": [
    "p.save_trades()"
   ]
  },
  {
   "cell_type": "code",
   "execution_count": null,
   "id": "b4d34a85",
   "metadata": {},
   "outputs": [],
   "source": [
    "p2 = Portfolio(10000, 'portfolio.csv') # just make sure to use the same starting balance\n",
    "p2.load_trades()\n",
    "p2.trades"
   ]
  },
  {
   "cell_type": "code",
   "execution_count": null,
   "id": "c99f43f2",
   "metadata": {},
   "outputs": [],
   "source": [
    "p2.plot_value_over_time()\n",
    "plot.show()"
   ]
  },
  {
   "cell_type": "code",
   "execution_count": null,
   "id": "6ef8a340",
   "metadata": {},
   "outputs": [],
   "source": [
    "p3 = Portfolio(1000, 'portfolio3.csv')\n",
    "\n",
    "p3.trade(\n",
    "    symbol = 'MSFT',\n",
    "    order_type = True,\n",
    "    quantity = 1,\n",
    "    price = 350\n",
    ")\n",
    "p3.trade(\n",
    "    symbol = 'AAPL',\n",
    "    order_type = True,\n",
    "    quantity = 1,\n",
    "    price = 200\n",
    ")\n",
    "\n",
    "p3.get_all_assets(), p3.get_latest_asset_prices(), p3.get_asset_values(), p3.get_total_asset_values()"
   ]
  },
  {
   "cell_type": "code",
   "execution_count": null,
   "id": "e9f19312",
   "metadata": {},
   "outputs": [],
   "source": [
    "p3.trade(\n",
    "    symbol = 'MSFT',\n",
    "    order_type = False,\n",
    "    quantity = 1,\n",
    "    price = 400,\n",
    "    order_time = time.time() + 86400 * 3\n",
    ")\n",
    "p3.trade(\n",
    "    symbol = 'AAPL',\n",
    "    order_type = False,\n",
    "    quantity = 1,\n",
    "    price = 300,\n",
    "    order_time = time.time() + 86400 * 3\n",
    ")\n",
    "\n",
    "p3.get_all_assets(), p3.get_latest_asset_prices(), p3.get_asset_values(), p3.get_total_asset_values(), p3.get_balance()"
   ]
  },
  {
   "cell_type": "code",
   "execution_count": null,
   "id": "afe86a2e",
   "metadata": {},
   "outputs": [],
   "source": [
    "p2.plot_value_over_time()\n",
    "p3.plot_value_over_time()\n",
    "plot.legend(['portfolio 2', 'portfolio 3'])\n",
    "plot.show() # comparison doesn't account for percent change"
   ]
  },
  {
   "cell_type": "code",
   "execution_count": null,
   "id": "0e0daae8",
   "metadata": {},
   "outputs": [],
   "source": [
    "p2.plot_growth_over_time()\n",
    "p3.plot_growth_over_time()\n",
    "plot.legend(['portfolio 2', 'portfolio 3'])\n",
    "plot.show() # comparison doesn't account for percent change"
   ]
  }
 ],
 "metadata": {
  "kernelspec": {
   "display_name": ".venv",
   "language": "python",
   "name": "python3"
  },
  "language_info": {
   "codemirror_mode": {
    "name": "ipython",
    "version": 3
   },
   "file_extension": ".py",
   "mimetype": "text/x-python",
   "name": "python",
   "nbconvert_exporter": "python",
   "pygments_lexer": "ipython3",
   "version": "3.13.0"
  }
 },
 "nbformat": 4,
 "nbformat_minor": 5
}
